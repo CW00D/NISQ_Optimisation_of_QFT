{
 "cells": [
  {
   "cell_type": "markdown",
   "metadata": {},
   "source": [
    "## Experimenting with Qiskit"
   ]
  },
  {
   "cell_type": "code",
   "execution_count": null,
   "metadata": {},
   "outputs": [],
   "source": [
    "import qiskit_aer\n",
    "qiskit_aer.__version__"
   ]
  },
  {
   "cell_type": "code",
   "execution_count": 2,
   "metadata": {},
   "outputs": [],
   "source": [
    "import numpy as np\n",
    "\n",
    "# Import Qiskit\n",
    "from qiskit import QuantumCircuit, transpile\n",
    "from qiskit_aer import AerSimulator\n",
    "from qiskit.visualization import plot_histogram, plot_state_city\n",
    "import qiskit.quantum_info as qi\n",
    "\n",
    "simulator = AerSimulator()"
   ]
  },
  {
   "cell_type": "code",
   "execution_count": null,
   "metadata": {},
   "outputs": [],
   "source": [
    "# Create circuit\n",
    "circ = QuantumCircuit(2)\n",
    "circ.h(0)\n",
    "circ.x(1)\n",
    "circ.y(0)\n",
    "circ.measure_all()\n",
    "\n",
    "print(circ)\n",
    "\n",
    "# Run and get counts\n",
    "simulator = AerSimulator()\n",
    "result = simulator.run(circ, shots=10000, memory=True).result()\n",
    "memory = result.get_memory(circ)\n",
    "counts = result.get_counts(circ)\n",
    "print(memory)\n",
    "plot_histogram(counts, title='Bell-State counts')"
   ]
  },
  {
   "cell_type": "code",
   "execution_count": null,
   "metadata": {},
   "outputs": [],
   "source": [
    "# Increase shots to reduce sampling variance\n",
    "shots = 10000\n",
    "\n",
    "\n",
    "\n",
    "# Statevector simulation method\n",
    "sim_statevector = AerSimulator(method='statevector')\n",
    "job_statevector = sim_statevector.run(circ, shots=shots)\n",
    "counts_statevector = job_statevector.result().get_counts(0)\n",
    "\n",
    "# Stabilizer simulation method\n",
    "sim_stabilizer = AerSimulator(method='stabilizer')\n",
    "job_stabilizer = sim_stabilizer.run(circ, shots=shots)\n",
    "counts_stabilizer = job_stabilizer.result().get_counts(0)\n",
    "\n",
    "\n",
    "# Extended Stabilizer method\n",
    "sim_extstabilizer = AerSimulator(method='extended_stabilizer')\n",
    "job_extstabilizer = sim_extstabilizer.run(circ, shots=shots)\n",
    "counts_extstabilizer = job_extstabilizer.result().get_counts(0)\n",
    "\n",
    "# Density Matrix simulation method\n",
    "sim_density = AerSimulator(method='density_matrix')\n",
    "job_density = sim_density.run(circ, shots=shots)\n",
    "counts_density = job_density.result().get_counts(0)\n",
    "\n",
    "# Matrix Product State simulation method\n",
    "sim_mps = AerSimulator(method='matrix_product_state')\n",
    "job_mps = sim_mps.run(circ, shots=shots)\n",
    "counts_mps = job_mps.result().get_counts(0)\n",
    "\n",
    "\n",
    "plot_histogram([ counts_statevector,counts_stabilizer ,counts_extstabilizer, counts_density, counts_mps],\n",
    "               title='Counts for different simulation methods',\n",
    "               legend=[ 'statevector',\n",
    "                       'density_matrix','stabilizer','extended_stabilizer', 'matrix_product_state'])"
   ]
  },
  {
   "cell_type": "code",
   "execution_count": null,
   "metadata": {},
   "outputs": [],
   "source": [
    "# Construct quantum circuit without measure\n",
    "circ = QuantumCircuit(2)\n",
    "circ.h(0)\n",
    "circ.cx(0, 1)\n",
    "circ.p(0.6, 0)\n",
    "circ.save_statevector()\n",
    "\n",
    "# Transpile for simulator\n",
    "simulator = AerSimulator(method='statevector')\n",
    "\n",
    "# Run and get statevector\n",
    "result = simulator.run(circ).result()\n",
    "statevector = result.get_statevector(circ)\n",
    "plot_state_city(statevector, title='Bell state')"
   ]
  }
 ],
 "metadata": {
  "kernelspec": {
   "display_name": "Python 3",
   "language": "python",
   "name": "python3"
  },
  "language_info": {
   "codemirror_mode": {
    "name": "ipython",
    "version": 3
   },
   "file_extension": ".py",
   "mimetype": "text/x-python",
   "name": "python",
   "nbconvert_exporter": "python",
   "pygments_lexer": "ipython3",
   "version": "3.11.4"
  }
 },
 "nbformat": 4,
 "nbformat_minor": 2
}
