{
 "cells": [
  {
   "cell_type": "markdown",
   "metadata": {},
   "source": [
    "## Representation Testing"
   ]
  },
  {
   "cell_type": "code",
   "execution_count": 234,
   "metadata": {},
   "outputs": [],
   "source": [
    "import numpy as np\n",
    "\n",
    "# Import Qiskit\n",
    "from qiskit import QuantumCircuit, transpile\n",
    "from qiskit_aer import AerSimulator\n",
    "from qiskit.visualization import plot_histogram, plot_state_city\n",
    "import qiskit.quantum_info as qi\n",
    "import re\n",
    "\n",
    "simulator = AerSimulator()"
   ]
  },
  {
   "cell_type": "markdown",
   "metadata": {},
   "source": [
    "Representation"
   ]
  },
  {
   "cell_type": "code",
   "execution_count": 235,
   "metadata": {},
   "outputs": [
    {
     "name": "stdout",
     "output_type": "stream",
     "text": [
      "        ┌───┐┌───┐   ┌─────┐┌───┐      ┌───┐       ░   ░    ░        ░ ┌─┐   »\n",
      "   q_0: ┤ H ├┤ S ├─■─┤ Sdg ├┤ T ├────■─┤ S ├────X──░───░────░────────░─┤M├───»\n",
      "        └─░─┘└─┬─┘ │ └──░──┘└─░─┘ ░  │ └─░─┘ ░  │  ░ ┌───┐┌───┐  ░   ░ └╥┘┌─┐»\n",
      "   q_1: ──░────■───┼────░─────░───░──┼───░───░──┼──░─┤ H ├┤ S ├──░───░──╫─┤M├»\n",
      "          ░    ░   │    ░     ░   ░  │   ░   ░  │  ░ └───┘└─┬─┘┌───┐ ░  ║ └╥┘»\n",
      "   q_2: ──░────░───■────░─────░──────■───░──────X──░────────■──┤ H ├─░──╫──╫─»\n",
      "          ░    ░        ░     ░          ░         ░           └───┘ ░  ║  ║ »\n",
      "meas: 3/════════════════════════════════════════════════════════════════╩══╩═»\n",
      "                                                                        0  1 »\n",
      "«           \n",
      "«   q_0: ───\n",
      "«           \n",
      "«   q_1: ───\n",
      "«        ┌─┐\n",
      "«   q_2: ┤M├\n",
      "«        └╥┘\n",
      "«meas: 3/═╩═\n",
      "«         2 \n",
      "Circuit depth: 11\n"
     ]
    }
   ],
   "source": [
    "# Parameters\n",
    "qubits = 3\n",
    "max_circuit_depth = 5\n",
    "\n",
    "# Initialize circuit\n",
    "test_circuit = QuantumCircuit(qubits)\n",
    "\n",
    "# Gate map\n",
    "chromosome_qiskit_gate_map = {\n",
    "    \"w\": test_circuit.barrier,  # Use barrier for blank \"wires\"\n",
    "    \"-\": None,  # Used for control qubits\n",
    "    \"x\": test_circuit.x,\n",
    "    \"y\": test_circuit.y,\n",
    "    \"z\": test_circuit.z,\n",
    "    \"h\": test_circuit.h,\n",
    "    \"s\": test_circuit.s,\n",
    "    \"sdg\": test_circuit.sdg,\n",
    "    \"t\": test_circuit.t,\n",
    "    \"cx\": test_circuit.cx,\n",
    "    \"cy\": test_circuit.cy,\n",
    "    \"cz\": test_circuit.cz,\n",
    "    \"ch\": test_circuit.ch,\n",
    "    \"cs\": test_circuit.cs,\n",
    "    \"swap\": test_circuit.swap,\n",
    "}\n",
    "\n",
    "# Example chromosome\n",
    "test_circuit_chromosome = [\n",
    "    ['h', 'w', 'w'],\n",
    "    ['cs(1,0)', '-', 'w'],\n",
    "    ['cz(2,0)', 'w', '-'],\n",
    "    ['sdg', 'w', 'w'],\n",
    "    ['t', 'w', 'w'],\n",
    "    ['cz(2,0)', 'w', '-'],\n",
    "    ['s', 'w', 'w'],\n",
    "    ['swap(2,0)', 'w', '-'],\n",
    "    ['w', 'h', 'w'],\n",
    "    ['w', 'cs(2,1)', '-'],\n",
    "    ['w', 'w', 'h']\n",
    "]\n",
    "\n",
    "# Helper to apply gates\n",
    "for block in test_circuit_chromosome:\n",
    "    for qubit in range(len(block)):\n",
    "        gate_spec = block[qubit]\n",
    "        if gate_spec == \"-\":\n",
    "            continue\n",
    "        elif \"(\" in gate_spec:\n",
    "            gate, args = re.match(r\"(\\w+)\\((.+)\\)\", gate_spec).groups()\n",
    "            args = list(map(int, args.split(\",\")))\n",
    "            chromosome_qiskit_gate_map[gate](*args)\n",
    "        else:\n",
    "            chromosome_qiskit_gate_map[gate_spec](qubit)\n",
    "\n",
    "# Add measurements\n",
    "test_circuit.measure_all()\n",
    "\n",
    "# Output\n",
    "print(test_circuit)\n",
    "print(\"Circuit depth:\", test_circuit.depth())\n"
   ]
  },
  {
   "cell_type": "markdown",
   "metadata": {},
   "source": [
    "Running Circuit"
   ]
  },
  {
   "cell_type": "code",
   "execution_count": null,
   "metadata": {},
   "outputs": [
    {
     "ename": "AerError",
     "evalue": "'unknown instruction: cs'",
     "output_type": "error",
     "traceback": [
      "\u001b[1;31m---------------------------------------------------------------------------\u001b[0m",
      "\u001b[1;31mAerError\u001b[0m                                  Traceback (most recent call last)",
      "Cell \u001b[1;32mIn[236], line 5\u001b[0m\n\u001b[0;32m      2\u001b[0m simulator \u001b[38;5;241m=\u001b[39m AerSimulator()\n\u001b[0;32m      4\u001b[0m \u001b[38;5;66;03m# Run and get counts\u001b[39;00m\n\u001b[1;32m----> 5\u001b[0m result \u001b[38;5;241m=\u001b[39m \u001b[43msimulator\u001b[49m\u001b[38;5;241;43m.\u001b[39;49m\u001b[43mrun\u001b[49m\u001b[43m(\u001b[49m\u001b[43mtest_circuit\u001b[49m\u001b[43m,\u001b[49m\u001b[43m \u001b[49m\u001b[43mshots\u001b[49m\u001b[38;5;241;43m=\u001b[39;49m\u001b[38;5;241;43m10000\u001b[39;49m\u001b[43m,\u001b[49m\u001b[43m \u001b[49m\u001b[43mmemory\u001b[49m\u001b[38;5;241;43m=\u001b[39;49m\u001b[38;5;28;43;01mTrue\u001b[39;49;00m\u001b[43m)\u001b[49m\u001b[38;5;241;43m.\u001b[39;49m\u001b[43mresult\u001b[49m\u001b[43m(\u001b[49m\u001b[43m)\u001b[49m\n\u001b[0;32m      6\u001b[0m counts \u001b[38;5;241m=\u001b[39m result\u001b[38;5;241m.\u001b[39mget_counts(test_circuit)\n\u001b[0;32m      7\u001b[0m \u001b[38;5;28mprint\u001b[39m(test_circuit)\n",
      "File \u001b[1;32mc:\\Users\\chris\\AppData\\Local\\Programs\\Python\\Python311\\Lib\\site-packages\\qiskit_aer\\jobs\\utils.py:38\u001b[0m, in \u001b[0;36mrequires_submit.<locals>._wrapper\u001b[1;34m(self, *args, **kwargs)\u001b[0m\n\u001b[0;32m     36\u001b[0m \u001b[38;5;28;01mif\u001b[39;00m \u001b[38;5;28mself\u001b[39m\u001b[38;5;241m.\u001b[39m_future \u001b[38;5;129;01mis\u001b[39;00m \u001b[38;5;28;01mNone\u001b[39;00m:\n\u001b[0;32m     37\u001b[0m     \u001b[38;5;28;01mraise\u001b[39;00m JobError(\u001b[38;5;124m\"\u001b[39m\u001b[38;5;124mJob not submitted yet!. You have to .submit() first!\u001b[39m\u001b[38;5;124m\"\u001b[39m)\n\u001b[1;32m---> 38\u001b[0m \u001b[38;5;28;01mreturn\u001b[39;00m \u001b[43mfunc\u001b[49m\u001b[43m(\u001b[49m\u001b[38;5;28;43mself\u001b[39;49m\u001b[43m,\u001b[49m\u001b[43m \u001b[49m\u001b[38;5;241;43m*\u001b[39;49m\u001b[43margs\u001b[49m\u001b[43m,\u001b[49m\u001b[43m \u001b[49m\u001b[38;5;241;43m*\u001b[39;49m\u001b[38;5;241;43m*\u001b[39;49m\u001b[43mkwargs\u001b[49m\u001b[43m)\u001b[49m\n",
      "File \u001b[1;32mc:\\Users\\chris\\AppData\\Local\\Programs\\Python\\Python311\\Lib\\site-packages\\qiskit_aer\\jobs\\aerjob.py:96\u001b[0m, in \u001b[0;36mAerJob.result\u001b[1;34m(self, timeout)\u001b[0m\n\u001b[0;32m     78\u001b[0m \u001b[38;5;129m@requires_submit\u001b[39m\n\u001b[0;32m     79\u001b[0m \u001b[38;5;28;01mdef\u001b[39;00m \u001b[38;5;21mresult\u001b[39m(\u001b[38;5;28mself\u001b[39m, timeout\u001b[38;5;241m=\u001b[39m\u001b[38;5;28;01mNone\u001b[39;00m):\n\u001b[0;32m     80\u001b[0m     \u001b[38;5;66;03m# pylint: disable=arguments-differ\u001b[39;00m\n\u001b[0;32m     81\u001b[0m \u001b[38;5;250m    \u001b[39m\u001b[38;5;124;03m\"\"\"Get job result. The behavior is the same as the underlying\u001b[39;00m\n\u001b[0;32m     82\u001b[0m \u001b[38;5;124;03m    concurrent Future objects,\u001b[39;00m\n\u001b[0;32m     83\u001b[0m \n\u001b[1;32m   (...)\u001b[0m\n\u001b[0;32m     94\u001b[0m \u001b[38;5;124;03m        concurrent.futures.CancelledError: if job cancelled before completed.\u001b[39;00m\n\u001b[0;32m     95\u001b[0m \u001b[38;5;124;03m    \"\"\"\u001b[39;00m\n\u001b[1;32m---> 96\u001b[0m     \u001b[38;5;28;01mreturn\u001b[39;00m \u001b[38;5;28;43mself\u001b[39;49m\u001b[38;5;241;43m.\u001b[39;49m\u001b[43m_future\u001b[49m\u001b[38;5;241;43m.\u001b[39;49m\u001b[43mresult\u001b[49m\u001b[43m(\u001b[49m\u001b[43mtimeout\u001b[49m\u001b[38;5;241;43m=\u001b[39;49m\u001b[43mtimeout\u001b[49m\u001b[43m)\u001b[49m\n",
      "File \u001b[1;32mc:\\Users\\chris\\AppData\\Local\\Programs\\Python\\Python311\\Lib\\concurrent\\futures\\_base.py:456\u001b[0m, in \u001b[0;36mFuture.result\u001b[1;34m(self, timeout)\u001b[0m\n\u001b[0;32m    454\u001b[0m     \u001b[38;5;28;01mraise\u001b[39;00m CancelledError()\n\u001b[0;32m    455\u001b[0m \u001b[38;5;28;01melif\u001b[39;00m \u001b[38;5;28mself\u001b[39m\u001b[38;5;241m.\u001b[39m_state \u001b[38;5;241m==\u001b[39m FINISHED:\n\u001b[1;32m--> 456\u001b[0m     \u001b[38;5;28;01mreturn\u001b[39;00m \u001b[38;5;28;43mself\u001b[39;49m\u001b[38;5;241;43m.\u001b[39;49m\u001b[43m__get_result\u001b[49m\u001b[43m(\u001b[49m\u001b[43m)\u001b[49m\n\u001b[0;32m    457\u001b[0m \u001b[38;5;28;01melse\u001b[39;00m:\n\u001b[0;32m    458\u001b[0m     \u001b[38;5;28;01mraise\u001b[39;00m \u001b[38;5;167;01mTimeoutError\u001b[39;00m()\n",
      "File \u001b[1;32mc:\\Users\\chris\\AppData\\Local\\Programs\\Python\\Python311\\Lib\\concurrent\\futures\\_base.py:401\u001b[0m, in \u001b[0;36mFuture.__get_result\u001b[1;34m(self)\u001b[0m\n\u001b[0;32m    399\u001b[0m \u001b[38;5;28;01mif\u001b[39;00m \u001b[38;5;28mself\u001b[39m\u001b[38;5;241m.\u001b[39m_exception:\n\u001b[0;32m    400\u001b[0m     \u001b[38;5;28;01mtry\u001b[39;00m:\n\u001b[1;32m--> 401\u001b[0m         \u001b[38;5;28;01mraise\u001b[39;00m \u001b[38;5;28mself\u001b[39m\u001b[38;5;241m.\u001b[39m_exception\n\u001b[0;32m    402\u001b[0m     \u001b[38;5;28;01mfinally\u001b[39;00m:\n\u001b[0;32m    403\u001b[0m         \u001b[38;5;66;03m# Break a reference cycle with the exception in self._exception\u001b[39;00m\n\u001b[0;32m    404\u001b[0m         \u001b[38;5;28mself\u001b[39m \u001b[38;5;241m=\u001b[39m \u001b[38;5;28;01mNone\u001b[39;00m\n",
      "File \u001b[1;32mc:\\Users\\chris\\AppData\\Local\\Programs\\Python\\Python311\\Lib\\concurrent\\futures\\thread.py:58\u001b[0m, in \u001b[0;36m_WorkItem.run\u001b[1;34m(self)\u001b[0m\n\u001b[0;32m     55\u001b[0m     \u001b[38;5;28;01mreturn\u001b[39;00m\n\u001b[0;32m     57\u001b[0m \u001b[38;5;28;01mtry\u001b[39;00m:\n\u001b[1;32m---> 58\u001b[0m     result \u001b[38;5;241m=\u001b[39m \u001b[38;5;28;43mself\u001b[39;49m\u001b[38;5;241;43m.\u001b[39;49m\u001b[43mfn\u001b[49m\u001b[43m(\u001b[49m\u001b[38;5;241;43m*\u001b[39;49m\u001b[38;5;28;43mself\u001b[39;49m\u001b[38;5;241;43m.\u001b[39;49m\u001b[43margs\u001b[49m\u001b[43m,\u001b[49m\u001b[43m \u001b[49m\u001b[38;5;241;43m*\u001b[39;49m\u001b[38;5;241;43m*\u001b[39;49m\u001b[38;5;28;43mself\u001b[39;49m\u001b[38;5;241;43m.\u001b[39;49m\u001b[43mkwargs\u001b[49m\u001b[43m)\u001b[49m\n\u001b[0;32m     59\u001b[0m \u001b[38;5;28;01mexcept\u001b[39;00m \u001b[38;5;167;01mBaseException\u001b[39;00m \u001b[38;5;28;01mas\u001b[39;00m exc:\n\u001b[0;32m     60\u001b[0m     \u001b[38;5;28mself\u001b[39m\u001b[38;5;241m.\u001b[39mfuture\u001b[38;5;241m.\u001b[39mset_exception(exc)\n",
      "File \u001b[1;32mc:\\Users\\chris\\AppData\\Local\\Programs\\Python\\Python311\\Lib\\site-packages\\qiskit_aer\\backends\\aerbackend.py:472\u001b[0m, in \u001b[0;36mAerBackend._execute_circuits_job\u001b[1;34m(self, circuits, parameter_binds, run_options, job_id, format_result)\u001b[0m\n\u001b[0;32m    470\u001b[0m     aer_circuits, idx_maps \u001b[38;5;241m=\u001b[39m assemble_circuits(circuits, \u001b[38;5;28mself\u001b[39m\u001b[38;5;241m.\u001b[39mconfiguration()\u001b[38;5;241m.\u001b[39mbasis_gates)\n\u001b[0;32m    471\u001b[0m \u001b[38;5;28;01melse\u001b[39;00m:\n\u001b[1;32m--> 472\u001b[0m     aer_circuits, idx_maps \u001b[38;5;241m=\u001b[39m \u001b[43massemble_circuits\u001b[49m\u001b[43m(\u001b[49m\u001b[43mcircuits\u001b[49m\u001b[43m)\u001b[49m\n\u001b[0;32m    473\u001b[0m \u001b[38;5;28;01mif\u001b[39;00m parameter_binds:\n\u001b[0;32m    474\u001b[0m     run_options[\u001b[38;5;124m\"\u001b[39m\u001b[38;5;124mparameterizations\u001b[39m\u001b[38;5;124m\"\u001b[39m] \u001b[38;5;241m=\u001b[39m \u001b[38;5;28mself\u001b[39m\u001b[38;5;241m.\u001b[39m_convert_binds(\n\u001b[0;32m    475\u001b[0m         circuits, parameter_binds, idx_maps\n\u001b[0;32m    476\u001b[0m     )\n",
      "File \u001b[1;32mc:\\Users\\chris\\AppData\\Local\\Programs\\Python\\Python311\\Lib\\site-packages\\qiskit_aer\\backends\\aer_compiler.py:1068\u001b[0m, in \u001b[0;36massemble_circuits\u001b[1;34m(circuits, basis_gates)\u001b[0m\n\u001b[0;32m   1064\u001b[0m     aer_circuits, idx_maps \u001b[38;5;241m=\u001b[39m \u001b[38;5;28mzip\u001b[39m(\n\u001b[0;32m   1065\u001b[0m         \u001b[38;5;241m*\u001b[39m[assemble_circuit(circuit, basis_gates_set) \u001b[38;5;28;01mfor\u001b[39;00m circuit \u001b[38;5;129;01min\u001b[39;00m circuits]\n\u001b[0;32m   1066\u001b[0m     )\n\u001b[0;32m   1067\u001b[0m \u001b[38;5;28;01melse\u001b[39;00m:\n\u001b[1;32m-> 1068\u001b[0m     aer_circuits, idx_maps \u001b[38;5;241m=\u001b[39m \u001b[38;5;28mzip\u001b[39m(\u001b[38;5;241m*\u001b[39m\u001b[43m[\u001b[49m\u001b[43massemble_circuit\u001b[49m\u001b[43m(\u001b[49m\u001b[43mcircuit\u001b[49m\u001b[43m)\u001b[49m\u001b[43m \u001b[49m\u001b[38;5;28;43;01mfor\u001b[39;49;00m\u001b[43m \u001b[49m\u001b[43mcircuit\u001b[49m\u001b[43m \u001b[49m\u001b[38;5;129;43;01min\u001b[39;49;00m\u001b[43m \u001b[49m\u001b[43mcircuits\u001b[49m\u001b[43m]\u001b[49m)\n\u001b[0;32m   1069\u001b[0m \u001b[38;5;28;01mreturn\u001b[39;00m \u001b[38;5;28mlist\u001b[39m(aer_circuits), \u001b[38;5;28mlist\u001b[39m(idx_maps)\n",
      "File \u001b[1;32mc:\\Users\\chris\\AppData\\Local\\Programs\\Python\\Python311\\Lib\\site-packages\\qiskit_aer\\backends\\aer_compiler.py:1068\u001b[0m, in \u001b[0;36m<listcomp>\u001b[1;34m(.0)\u001b[0m\n\u001b[0;32m   1064\u001b[0m     aer_circuits, idx_maps \u001b[38;5;241m=\u001b[39m \u001b[38;5;28mzip\u001b[39m(\n\u001b[0;32m   1065\u001b[0m         \u001b[38;5;241m*\u001b[39m[assemble_circuit(circuit, basis_gates_set) \u001b[38;5;28;01mfor\u001b[39;00m circuit \u001b[38;5;129;01min\u001b[39;00m circuits]\n\u001b[0;32m   1066\u001b[0m     )\n\u001b[0;32m   1067\u001b[0m \u001b[38;5;28;01melse\u001b[39;00m:\n\u001b[1;32m-> 1068\u001b[0m     aer_circuits, idx_maps \u001b[38;5;241m=\u001b[39m \u001b[38;5;28mzip\u001b[39m(\u001b[38;5;241m*\u001b[39m[\u001b[43massemble_circuit\u001b[49m\u001b[43m(\u001b[49m\u001b[43mcircuit\u001b[49m\u001b[43m)\u001b[49m \u001b[38;5;28;01mfor\u001b[39;00m circuit \u001b[38;5;129;01min\u001b[39;00m circuits])\n\u001b[0;32m   1069\u001b[0m \u001b[38;5;28;01mreturn\u001b[39;00m \u001b[38;5;28mlist\u001b[39m(aer_circuits), \u001b[38;5;28mlist\u001b[39m(idx_maps)\n",
      "File \u001b[1;32mc:\\Users\\chris\\AppData\\Local\\Programs\\Python\\Python311\\Lib\\site-packages\\qiskit_aer\\backends\\aer_compiler.py:734\u001b[0m, in \u001b[0;36massemble_circuit\u001b[1;34m(circuit, basis_gates)\u001b[0m\n\u001b[0;32m    731\u001b[0m     \u001b[38;5;28;01melif\u001b[39;00m \u001b[38;5;28mhasattr\u001b[39m(inst\u001b[38;5;241m.\u001b[39moperation, \u001b[38;5;124m\"\u001b[39m\u001b[38;5;124mcondition_expr\u001b[39m\u001b[38;5;124m\"\u001b[39m) \u001b[38;5;129;01mand\u001b[39;00m inst\u001b[38;5;241m.\u001b[39moperation\u001b[38;5;241m.\u001b[39mcondition_expr:\n\u001b[0;32m    732\u001b[0m         conditional_expr \u001b[38;5;241m=\u001b[39m inst\u001b[38;5;241m.\u001b[39moperation\u001b[38;5;241m.\u001b[39mcondition_expr\n\u001b[1;32m--> 734\u001b[0m     num_of_aer_ops \u001b[38;5;241m+\u001b[39m\u001b[38;5;241m=\u001b[39m \u001b[43m_assemble_op\u001b[49m\u001b[43m(\u001b[49m\n\u001b[0;32m    735\u001b[0m \u001b[43m        \u001b[49m\u001b[43mcircuit\u001b[49m\u001b[43m,\u001b[49m\n\u001b[0;32m    736\u001b[0m \u001b[43m        \u001b[49m\u001b[43maer_circ\u001b[49m\u001b[43m,\u001b[49m\n\u001b[0;32m    737\u001b[0m \u001b[43m        \u001b[49m\u001b[43minst\u001b[49m\u001b[43m,\u001b[49m\n\u001b[0;32m    738\u001b[0m \u001b[43m        \u001b[49m\u001b[43mqubit_indices\u001b[49m\u001b[43m,\u001b[49m\n\u001b[0;32m    739\u001b[0m \u001b[43m        \u001b[49m\u001b[43mclbit_indices\u001b[49m\u001b[43m,\u001b[49m\n\u001b[0;32m    740\u001b[0m \u001b[43m        \u001b[49m\u001b[43mis_conditional\u001b[49m\u001b[43m,\u001b[49m\n\u001b[0;32m    741\u001b[0m \u001b[43m        \u001b[49m\u001b[43mconditional_reg\u001b[49m\u001b[43m,\u001b[49m\n\u001b[0;32m    742\u001b[0m \u001b[43m        \u001b[49m\u001b[43mconditional_expr\u001b[49m\u001b[43m,\u001b[49m\n\u001b[0;32m    743\u001b[0m \u001b[43m        \u001b[49m\u001b[43mbasis_gates\u001b[49m\u001b[43m,\u001b[49m\n\u001b[0;32m    744\u001b[0m \u001b[43m    \u001b[49m\u001b[43m)\u001b[49m\n\u001b[0;32m    745\u001b[0m     index_map\u001b[38;5;241m.\u001b[39mappend(num_of_aer_ops \u001b[38;5;241m-\u001b[39m \u001b[38;5;241m1\u001b[39m)\n\u001b[0;32m    747\u001b[0m \u001b[38;5;28;01mreturn\u001b[39;00m aer_circ, index_map\n",
      "File \u001b[1;32mc:\\Users\\chris\\AppData\\Local\\Programs\\Python\\Python311\\Lib\\site-packages\\qiskit_aer\\backends\\aer_compiler.py:1032\u001b[0m, in \u001b[0;36m_assemble_op\u001b[1;34m(circ, aer_circ, inst, qubit_indices, clbit_indices, is_conditional, conditional_reg, conditional_expr, basis_gates)\u001b[0m\n\u001b[0;32m   1030\u001b[0m     num_of_aer_ops \u001b[38;5;241m=\u001b[39m \u001b[38;5;241m1\u001b[39m\n\u001b[0;32m   1031\u001b[0m \u001b[38;5;28;01melse\u001b[39;00m:\n\u001b[1;32m-> 1032\u001b[0m     \u001b[38;5;28;01mraise\u001b[39;00m AerError(\u001b[38;5;124mf\u001b[39m\u001b[38;5;124m\"\u001b[39m\u001b[38;5;124munknown instruction: \u001b[39m\u001b[38;5;132;01m{\u001b[39;00mname\u001b[38;5;132;01m}\u001b[39;00m\u001b[38;5;124m\"\u001b[39m)\n\u001b[0;32m   1034\u001b[0m \u001b[38;5;28;01mreturn\u001b[39;00m num_of_aer_ops\n",
      "\u001b[1;31mAerError\u001b[0m: 'unknown instruction: cs'"
     ]
    }
   ],
   "source": [
    "# Transpile for simulator\n",
    "simulator = AerSimulator()\n",
    "\n",
    "# Run and get counts\n",
    "result = simulator.run(test_circuit, shots=10000, memory=True).result()\n",
    "counts = result.get_counts(test_circuit)\n",
    "print(test_circuit)\n",
    "print(test_circuit.depth())\n",
    "plot_histogram(counts, title='Bell-State counts')"
   ]
  }
 ],
 "metadata": {
  "kernelspec": {
   "display_name": "Python 3",
   "language": "python",
   "name": "python3"
  },
  "language_info": {
   "codemirror_mode": {
    "name": "ipython",
    "version": 3
   },
   "file_extension": ".py",
   "mimetype": "text/x-python",
   "name": "python",
   "nbconvert_exporter": "python",
   "pygments_lexer": "ipython3",
   "version": "3.11.4"
  }
 },
 "nbformat": 4,
 "nbformat_minor": 2
}
