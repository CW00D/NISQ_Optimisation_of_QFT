{
 "cells": [
  {
   "cell_type": "markdown",
   "metadata": {},
   "source": [
    "## Representation Testing"
   ]
  },
  {
   "cell_type": "code",
   "execution_count": 1,
   "metadata": {},
   "outputs": [],
   "source": [
    "import numpy as np\n",
    "\n",
    "# Import Qiskit\n",
    "from qiskit import QuantumCircuit, transpile\n",
    "from qiskit_aer import AerSimulator\n",
    "from qiskit.visualization import plot_histogram, plot_state_city\n",
    "import qiskit.quantum_info as qi\n",
    "import re\n",
    "\n",
    "simulator = AerSimulator()"
   ]
  },
  {
   "cell_type": "markdown",
   "metadata": {},
   "source": [
    "Representation"
   ]
  },
  {
   "cell_type": "code",
   "execution_count": 12,
   "metadata": {},
   "outputs": [
    {
     "name": "stdout",
     "output_type": "stream",
     "text": [
      "        ┌───┐┌───┐┌───┐   ┌─────┐┌───┐      ┌───┐       ░   ░    ░             »\n",
      "   q_0: ┤ X ├┤ H ├┤ S ├─■─┤ Sdg ├┤ T ├────■─┤ S ├────X──░───░────░────────X────»\n",
      "        ├───┤└─░─┘└─┬─┘ │ └──░──┘└─░─┘ ░  │ └─░─┘ ░  │  ░ ┌───┐┌───┐  ░   │  ░ »\n",
      "   q_1: ┤ X ├──░────■───┼────░─────░───░──┼───░───░──┼──░─┤ H ├┤ S ├──░───┼──░─»\n",
      "        ├───┤  ░    ░   │    ░     ░   ░  │   ░   ░  │  ░ └───┘└─┬─┘┌───┐ │  ░ »\n",
      "   q_2: ┤ X ├──░────░───■────░─────░──────■───░──────X──░────────■──┤ H ├─X────»\n",
      "        └───┘  ░    ░        ░     ░          ░         ░           └───┘      »\n",
      "meas: 3/═══════════════════════════════════════════════════════════════════════»\n",
      "                                                                               »\n",
      "«         ░ ┌─┐      \n",
      "«   q_0: ─░─┤M├──────\n",
      "«         ░ └╥┘┌─┐   \n",
      "«   q_1: ─░──╫─┤M├───\n",
      "«         ░  ║ └╥┘┌─┐\n",
      "«   q_2: ─░──╫──╫─┤M├\n",
      "«         ░  ║  ║ └╥┘\n",
      "«meas: 3/════╩══╩══╩═\n",
      "«            0  1  2 \n",
      "Circuit depth: 13\n"
     ]
    }
   ],
   "source": [
    "# Parameters\n",
    "qubits = 3\n",
    "max_circuit_depth = 5\n",
    "\n",
    "# Initialize circuit\n",
    "test_circuit = QuantumCircuit(qubits)\n",
    "\n",
    "# Gate map\n",
    "chromosome_qiskit_gate_map = {\n",
    "    \"w\": test_circuit.barrier,  # Use barrier for blank \"wires\"\n",
    "    \"-\": None,  # Used for control qubits\n",
    "    \"x\": test_circuit.x,\n",
    "    \"y\": test_circuit.y,\n",
    "    \"z\": test_circuit.z,\n",
    "    \"h\": test_circuit.h,\n",
    "    \"s\": test_circuit.s,\n",
    "    \"sdg\": test_circuit.sdg,\n",
    "    \"t\": test_circuit.t,\n",
    "    \"cx\": test_circuit.cx,\n",
    "    \"cy\": test_circuit.cy,\n",
    "    \"cz\": test_circuit.cz,\n",
    "    \"ch\": test_circuit.ch,\n",
    "    \"cs\": test_circuit.cs,\n",
    "    \"swap\": test_circuit.swap,\n",
    "}\n",
    "\n",
    "# Example chromosome\n",
    "test_circuit_chromosome = [\n",
    "    ['x', 'x', 'x'],\n",
    "    ['h', 'w', 'w'],\n",
    "    ['cs(1,0)', '-', 'w'],\n",
    "    ['cz(2,0)', 'w', '-'],\n",
    "    ['sdg', 'w', 'w'],\n",
    "    ['t', 'w', 'w'],\n",
    "    ['cz(2,0)', 'w', '-'],\n",
    "    ['s', 'w', 'w'],\n",
    "    ['swap(2,0)', 'w', '-'],\n",
    "    ['w', 'h', 'w'],\n",
    "    ['w', 'cs(2,1)', '-'],\n",
    "    ['w', 'w', 'h'],\n",
    "    ['swap(2,0)', 'w', '-'],\n",
    "]\n",
    "\n",
    "# Helper to apply gates\n",
    "for block in test_circuit_chromosome:\n",
    "    for qubit in range(len(block)):\n",
    "        gate_spec = block[qubit]\n",
    "        if gate_spec == \"-\":\n",
    "            continue\n",
    "        elif \"(\" in gate_spec:\n",
    "            gate, args = re.match(r\"(\\w+)\\((.+)\\)\", gate_spec).groups()\n",
    "            args = list(map(int, args.split(\",\")))\n",
    "            chromosome_qiskit_gate_map[gate](*args)\n",
    "        else:\n",
    "            chromosome_qiskit_gate_map[gate_spec](qubit)\n",
    "\n",
    "# Add save statevector\n",
    "test_circuit.save_statevector()\n",
    "\n",
    "# Output\n",
    "print(test_circuit)\n",
    "print(\"Circuit depth:\", test_circuit.depth())\n"
   ]
  },
  {
   "cell_type": "markdown",
   "metadata": {},
   "source": [
    "Running Circuit"
   ]
  },
  {
   "cell_type": "code",
   "execution_count": 23,
   "metadata": {},
   "outputs": [
    {
     "ename": "QiskitError",
     "evalue": "'No statevector for experiment \"<qiskit.circuit.quantumcircuit.QuantumCircuit object at 0x0000023346CAE8D0>\"'",
     "output_type": "error",
     "traceback": [
      "\u001b[1;31m---------------------------------------------------------------------------\u001b[0m",
      "\u001b[1;31mKeyError\u001b[0m                                  Traceback (most recent call last)",
      "File \u001b[1;32mc:\\Users\\chris\\AppData\\Local\\Programs\\Python\\Python311\\Lib\\site-packages\\qiskit\\result\\result.py:309\u001b[0m, in \u001b[0;36mResult.get_statevector\u001b[1;34m(self, experiment, decimals)\u001b[0m\n\u001b[0;32m    307\u001b[0m \u001b[38;5;28;01mtry\u001b[39;00m:\n\u001b[0;32m    308\u001b[0m     \u001b[38;5;28;01mreturn\u001b[39;00m postprocess\u001b[38;5;241m.\u001b[39mformat_statevector(\n\u001b[1;32m--> 309\u001b[0m         \u001b[38;5;28;43mself\u001b[39;49m\u001b[38;5;241;43m.\u001b[39;49m\u001b[43mdata\u001b[49m\u001b[43m(\u001b[49m\u001b[43mexperiment\u001b[49m\u001b[43m)\u001b[49m\u001b[43m[\u001b[49m\u001b[38;5;124;43m\"\u001b[39;49m\u001b[38;5;124;43mstatevector\u001b[39;49m\u001b[38;5;124;43m\"\u001b[39;49m\u001b[43m]\u001b[49m, decimals\u001b[38;5;241m=\u001b[39mdecimals\n\u001b[0;32m    310\u001b[0m     )\n\u001b[0;32m    311\u001b[0m \u001b[38;5;28;01mexcept\u001b[39;00m \u001b[38;5;167;01mKeyError\u001b[39;00m \u001b[38;5;28;01mas\u001b[39;00m ex:\n",
      "\u001b[1;31mKeyError\u001b[0m: 'statevector'",
      "\nThe above exception was the direct cause of the following exception:\n",
      "\u001b[1;31mQiskitError\u001b[0m                               Traceback (most recent call last)",
      "Cell \u001b[1;32mIn[23], line 7\u001b[0m\n\u001b[0;32m      5\u001b[0m \u001b[38;5;66;03m# Run and get statevector\u001b[39;00m\n\u001b[0;32m      6\u001b[0m result \u001b[38;5;241m=\u001b[39m simulator\u001b[38;5;241m.\u001b[39mrun(transpiled_test_circuit)\u001b[38;5;241m.\u001b[39mresult()\n\u001b[1;32m----> 7\u001b[0m statevector \u001b[38;5;241m=\u001b[39m \u001b[43mresult\u001b[49m\u001b[38;5;241;43m.\u001b[39;49m\u001b[43mget_statevector\u001b[49m\u001b[43m(\u001b[49m\u001b[43mtranspiled_test_circuit\u001b[49m\u001b[43m)\u001b[49m\n\u001b[0;32m      8\u001b[0m plot_state_city(statevector, title\u001b[38;5;241m=\u001b[39m\u001b[38;5;124m'\u001b[39m\u001b[38;5;124mBell state\u001b[39m\u001b[38;5;124m'\u001b[39m)\n",
      "File \u001b[1;32mc:\\Users\\chris\\AppData\\Local\\Programs\\Python\\Python311\\Lib\\site-packages\\qiskit\\result\\result.py:312\u001b[0m, in \u001b[0;36mResult.get_statevector\u001b[1;34m(self, experiment, decimals)\u001b[0m\n\u001b[0;32m    308\u001b[0m     \u001b[38;5;28;01mreturn\u001b[39;00m postprocess\u001b[38;5;241m.\u001b[39mformat_statevector(\n\u001b[0;32m    309\u001b[0m         \u001b[38;5;28mself\u001b[39m\u001b[38;5;241m.\u001b[39mdata(experiment)[\u001b[38;5;124m\"\u001b[39m\u001b[38;5;124mstatevector\u001b[39m\u001b[38;5;124m\"\u001b[39m], decimals\u001b[38;5;241m=\u001b[39mdecimals\n\u001b[0;32m    310\u001b[0m     )\n\u001b[0;32m    311\u001b[0m \u001b[38;5;28;01mexcept\u001b[39;00m \u001b[38;5;167;01mKeyError\u001b[39;00m \u001b[38;5;28;01mas\u001b[39;00m ex:\n\u001b[1;32m--> 312\u001b[0m     \u001b[38;5;28;01mraise\u001b[39;00m QiskitError(\u001b[38;5;124mf\u001b[39m\u001b[38;5;124m'\u001b[39m\u001b[38;5;124mNo statevector for experiment \u001b[39m\u001b[38;5;124m\"\u001b[39m\u001b[38;5;132;01m{\u001b[39;00m\u001b[38;5;28mrepr\u001b[39m(experiment)\u001b[38;5;132;01m}\u001b[39;00m\u001b[38;5;124m\"\u001b[39m\u001b[38;5;124m'\u001b[39m) \u001b[38;5;28;01mfrom\u001b[39;00m \u001b[38;5;21;01mex\u001b[39;00m\n",
      "\u001b[1;31mQiskitError\u001b[0m: 'No statevector for experiment \"<qiskit.circuit.quantumcircuit.QuantumCircuit object at 0x0000023346CAE8D0>\"'"
     ]
    }
   ],
   "source": [
    "# Transpile for simulator\n",
    "simulator = AerSimulator(method='statevector')\n",
    "transpiled_test_circuit = transpile(test_circuit, simulator)\n",
    "\n",
    "# Run and get statevector\n",
    "result = simulator.run(transpiled_test_circuit).result()\n",
    "statevector = result.get_statevector(transpiled_test_circuit)\n",
    "plot_state_city(statevector, title='Bell state')"
   ]
  },
  {
   "cell_type": "code",
   "execution_count": null,
   "metadata": {},
   "outputs": [],
   "source": []
  },
  {
   "cell_type": "code",
   "execution_count": null,
   "metadata": {},
   "outputs": [],
   "source": []
  }
 ],
 "metadata": {
  "kernelspec": {
   "display_name": "Python 3",
   "language": "python",
   "name": "python3"
  },
  "language_info": {
   "codemirror_mode": {
    "name": "ipython",
    "version": 3
   },
   "file_extension": ".py",
   "mimetype": "text/x-python",
   "name": "python",
   "nbconvert_exporter": "python",
   "pygments_lexer": "ipython3",
   "version": "3.11.4"
  }
 },
 "nbformat": 4,
 "nbformat_minor": 2
}
