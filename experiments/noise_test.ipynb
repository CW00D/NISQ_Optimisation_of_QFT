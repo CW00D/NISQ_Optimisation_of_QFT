{
 "cells": [
  {
   "cell_type": "code",
   "execution_count": 13,
   "metadata": {},
   "outputs": [
    {
     "name": "stdout",
     "output_type": "stream",
     "text": [
      "     ┌───┐                      ░   ░      ░                   statevector \n",
      "q_0: ┤ H ├─■───────────■────────░───░──────░─────────────X──────────░──────\n",
      "     └─░─┘ │P(π/2)  ░  │        ░ ┌───┐    ░     ░   ░   │          ░      \n",
      "q_1: ──░───■────────░──┼────────░─┤ H ├─■────────░───░───┼──────────░──────\n",
      "       ░      ░     ░  │P(π/4)  ░ └─░─┘ │P(π/2)  ░ ┌───┐ │  ░       ░      \n",
      "q_2: ──░──────░────────■────────░───░───■────────░─┤ H ├─X──░───────░──────\n",
      "       ░      ░                 ░   ░            ░ └───┘    ░       ░      \n"
     ]
    }
   ],
   "source": [
    "from qiskit.circuit.library import EfficientSU2\n",
    "import re\n",
    "from qiskit import QuantumCircuit\n",
    "\n",
    "parametrised_gates = [\n",
    "    \"rx\",\n",
    "    \"ry\",\n",
    "    \"rz\",\n",
    "    \"crx\",\n",
    "    \"cry\",\n",
    "    \"crz\",\n",
    "    \"cp\",\n",
    "    \"rxx\",\n",
    "    \"ryy\",\n",
    "    \"rzz\",\n",
    "]\n",
    "\n",
    "def get_circuits(circuit_chromosomes):\n",
    "    circuits = []\n",
    "    \n",
    "    for circuit_chromosome in circuit_chromosomes:\n",
    "        # Initialise circuit\n",
    "        circuit = QuantumCircuit(len(circuit_chromosome[0]))\n",
    "\n",
    "        # Gate map for Qiskit Aer native gates with explanations\n",
    "        chromosome_qiskit_gate_map = {\n",
    "            \"w\": lambda qubit: circuit.barrier(qubit),  # Barrier (used for blank \"wires\")\n",
    "            \"-\": None,  # Placeholder for control qubits (no operation)\n",
    "            \"x\": lambda qubit: circuit.x(qubit),  # Pauli-X (NOT) gate\n",
    "            \"y\": lambda qubit: circuit.y(qubit),  # Pauli-Y gate\n",
    "            \"z\": lambda qubit: circuit.z(qubit),  # Pauli-Z gate\n",
    "            \"h\": lambda qubit: circuit.h(qubit),  # Hadamard gate\n",
    "            \"s\": lambda qubit: circuit.s(qubit),  # S (Phase) gate: R_z(π/2)\n",
    "            \"sdg\": lambda qubit: circuit.sdg(qubit),  # S-dagger (Inverse Phase) gate: R_z(-π/2)\n",
    "            \"t\": lambda qubit: circuit.t(qubit),  # T gate: R_z(π/4)\n",
    "            \"tdg\": lambda qubit: circuit.tdg(qubit),  # T-dagger gate: R_z(-π/4)\n",
    "            \"rx\": lambda qubit, theta: circuit.rx(theta, qubit),  # Rotation around the X axis: R_x(θ)\n",
    "            \"ry\": lambda qubit, theta: circuit.ry(theta, qubit),  # Rotation around the Y axis: R_y(θ)\n",
    "            \"rz\": lambda qubit, theta: circuit.rz(theta, qubit),  # Rotation around the Z axis: R_z(θ)\n",
    "            \"cx\": lambda control_qubit, target_qubit: circuit.cx(control_qubit, target_qubit),  # CNOT (Controlled-X) gate\n",
    "            \"cy\": lambda control_qubit, target_qubit: circuit.cy(control_qubit, target_qubit),  # Controlled-Y gate\n",
    "            \"cz\": lambda control_qubit, target_qubit: circuit.cz(control_qubit, target_qubit),  # Controlled-Z gate\n",
    "            \"swap\": lambda q1, q2: circuit.swap(q1, q2),  # SWAP gate (exchange qubits)\n",
    "            \"ccx\": lambda q1, q2, target_qubit: circuit.ccx(q1, q2, target_qubit),  # Toffoli gate (Controlled-Controlled-X)\n",
    "            \"cswap\": lambda control_qubit, q1, q2: circuit.cswap(control_qubit, q1, q2),  # Controlled-SWAP gate\n",
    "            \"crx\": lambda control_qubit, target_qubit, theta: circuit.crx(theta, control_qubit, target_qubit),  # Controlled-RX rotation gate\n",
    "            \"cry\": lambda control_qubit, target_qubit, theta: circuit.cry(theta, control_qubit, target_qubit),  # Controlled-RY rotation gate\n",
    "            \"crz\": lambda control_qubit, target_qubit, theta: circuit.crz(theta, control_qubit, target_qubit),  # Controlled-RZ rotation gate\n",
    "            \"cp\": lambda control_qubit, target_qubit, theta: circuit.cp(theta, control_qubit, target_qubit),  # Controlled-Phase gate\n",
    "            \"rxx\": lambda q1, q2, theta: circuit.rxx(theta, q1, q2),  # Ising interaction: R_xx(θ) (rotation on the XX interaction)\n",
    "            \"ryy\": lambda q1, q2, theta: circuit.ryy(theta, q1, q2),  # Ising interaction: R_yy(θ) (rotation on the YY interaction)\n",
    "            \"rzz\": lambda q1, q2, theta: circuit.rzz(theta, q1, q2),  # Ising interaction: R_zz(θ) (rotation on the ZZ interaction)\n",
    "        }\n",
    "\n",
    "        # Helper to apply gates\n",
    "        for block in circuit_chromosome:\n",
    "            for qubit in range(len(block)):\n",
    "                gate_spec = block[qubit]\n",
    "                if gate_spec == \"-\":\n",
    "                    continue\n",
    "                elif \"(\" in gate_spec:\n",
    "                    gate, args = re.match(r\"(\\w+)\\((.+)\\)\", gate_spec).groups()\n",
    "                    if gate in parametrised_gates:\n",
    "                        args = list(args.split(\",\"))\n",
    "                        args[-1] = float(args[-1])\n",
    "                        args[:-1] = map(int, args[:-1])\n",
    "                    else:\n",
    "                        args = list(map(int, args.split(\",\")))\n",
    "                    chromosome_qiskit_gate_map[gate](*args)\n",
    "                else:\n",
    "                    chromosome_qiskit_gate_map[gate_spec](qubit)\n",
    "        circuit.save_statevector()\n",
    "\n",
    "        circuits.append(circuit.copy())\n",
    "\n",
    "    return circuits\n",
    "\n",
    "qft_chromosome = [\n",
    "        [\"h(0)\", \"w\", \"w\"],  # Hadamard on qubit 0\n",
    "        [\"cp(0,1,1.5707963267948966)\", \"w\", \"w\"],  # Controlled rotation π/2 between qubits 0 and 1\n",
    "        [\"cp(0,2,0.7853981633974483)\", \"w\", \"w\"],  # Controlled rotation π/4 between qubits 0 and 2\n",
    "        [\"w\", \"h(1)\", \"w\"],  # Hadamard on qubit 1\n",
    "        [\"w\", \"cp(1,2,1.5707963267948966)\", \"w\"],  # Controlled rotation π/2 between qubits 1 and 2\n",
    "        [\"w\", \"w\", \"h(2)\"],  # Hadamard on qubit 2\n",
    "        [\"swap(0,2)\", \"w\", \"w\"],  # Swap qubits 0 and 2\n",
    "    ]\n",
    "    \n",
    "circuit = get_circuits([qft_chromosome])[0]\n",
    "print(circuit)\n",
    "\n",
    " \n",
    "#n_qubits = 8\n",
    "#circuit = EfficientSU2(n_qubits)\n",
    "#circuit.decompose().draw(\"mpl\")"
   ]
  },
  {
   "cell_type": "code",
   "execution_count": 16,
   "metadata": {},
   "outputs": [
    {
     "data": {
      "text/plain": [
       "0.0"
      ]
     },
     "execution_count": 16,
     "metadata": {},
     "output_type": "execute_result"
    }
   ],
   "source": [
    "from qiskit.quantum_info import SparsePauliOp\n",
    "from qiskit.transpiler.preset_passmanagers import generate_preset_pass_manager\n",
    "from qiskit_aer import AerSimulator\n",
    "from qiskit_aer.primitives import EstimatorV2 as Estimator\n",
    " \n",
    "observable = SparsePauliOp(\"Z\" * 3)\n",
    "params = [0.1] * circuit.num_parameters\n",
    " \n",
    "exact_estimator = Estimator()\n",
    "# The circuit needs to be transpiled to the AerSimulator target\n",
    "pass_manager = generate_preset_pass_manager(3, AerSimulator())\n",
    "isa_circuit = pass_manager.run(circuit)\n",
    "pub = (isa_circuit, observable, params)\n",
    "job = exact_estimator.run([pub])\n",
    "result = job.result()\n",
    "pub_result = result[0]\n",
    "exact_value = float(pub_result.data.evs)\n",
    "exact_value"
   ]
  },
  {
   "cell_type": "code",
   "execution_count": 15,
   "metadata": {},
   "outputs": [
    {
     "data": {
      "text/plain": [
       "0.0"
      ]
     },
     "execution_count": 15,
     "metadata": {},
     "output_type": "execute_result"
    }
   ],
   "source": [
    "from qiskit_aer.noise import NoiseModel, depolarizing_error\n",
    " \n",
    "noise_model = NoiseModel()\n",
    "cx_depolarizing_prob = 0.02\n",
    "noise_model.add_all_qubit_quantum_error(\n",
    "    depolarizing_error(cx_depolarizing_prob, 2), [\"cx\"]\n",
    ")\n",
    " \n",
    "noisy_estimator = Estimator(\n",
    "    options=dict(backend_options=dict(noise_model=noise_model))\n",
    ")\n",
    "job = noisy_estimator.run([pub])\n",
    "result = job.result()\n",
    "pub_result = result[0]\n",
    "noisy_value = float(pub_result.data.evs)\n",
    "noisy_value"
   ]
  },
  {
   "cell_type": "markdown",
   "metadata": {},
   "source": [
    "# Atempt 2"
   ]
  },
  {
   "cell_type": "code",
   "execution_count": 30,
   "metadata": {},
   "outputs": [],
   "source": [
    "from qiskit import QuantumCircuit, transpile\n",
    "from qiskit_aer import AerSimulator\n",
    "from qiskit_aer.noise import NoiseModel, depolarizing_error"
   ]
  },
  {
   "cell_type": "code",
   "execution_count": 31,
   "metadata": {},
   "outputs": [],
   "source": [
    "from qiskit_ibm_runtime import QiskitRuntimeService\n",
    "\n",
    "# Replace 'YOUR_API_TOKEN' with your actual API token\n",
    "QiskitRuntimeService.save_account(channel='ibm_quantum', token='245e9b74ee58024ea6194faa8365e9ee507ccff553f3f7d97a2bf8b34f9f2fe6f32a75b17cdada69579fae02e328c0d283b8f727cd95455a03243c376c03b076', overwrite=True)"
   ]
  },
  {
   "cell_type": "code",
   "execution_count": 32,
   "metadata": {},
   "outputs": [],
   "source": [
    "from qiskit_ibm_runtime import QiskitRuntimeService\n",
    "\n",
    "# Load IBM Quantum account\n",
    "service = QiskitRuntimeService()"
   ]
  },
  {
   "cell_type": "code",
   "execution_count": 34,
   "metadata": {},
   "outputs": [
    {
     "name": "stdout",
     "output_type": "stream",
     "text": [
      "Available backends:\n",
      "ibm_brisbane\n",
      "ibm_kyiv\n",
      "ibm_sherbrooke\n"
     ]
    }
   ],
   "source": [
    "from qiskit_ibm_runtime import QiskitRuntimeService\n",
    "\n",
    "# Load IBM Quantum account\n",
    "service = QiskitRuntimeService()\n",
    "\n",
    "# List available backends\n",
    "backends = service.backends()\n",
    "print(\"Available backends:\")\n",
    "for backend in backends:\n",
    "    print(backend.name)\n"
   ]
  },
  {
   "cell_type": "code",
   "execution_count": 35,
   "metadata": {},
   "outputs": [],
   "source": [
    "from qiskit_ibm_runtime import QiskitRuntimeService\n",
    "\n",
    "# Load IBM Quantum account\n",
    "service = QiskitRuntimeService()\n",
    "\n",
    "# Select a backend\n",
    "backend = service.backend('ibm_brisbane')\n",
    "\n",
    "# Create a noise model from the backend\n",
    "noise_model = NoiseModel.from_backend(backend)\n"
   ]
  },
  {
   "cell_type": "code",
   "execution_count": 36,
   "metadata": {},
   "outputs": [],
   "source": [
    "simulator = AerSimulator(noise_model=noise_model)\n"
   ]
  },
  {
   "cell_type": "code",
   "execution_count": 37,
   "metadata": {},
   "outputs": [],
   "source": [
    "result = simulator.run(circuit).result()"
   ]
  },
  {
   "cell_type": "code",
   "execution_count": 38,
   "metadata": {},
   "outputs": [
    {
     "name": "stdout",
     "output_type": "stream",
     "text": [
      "{'000': 0.125, '001': 0.125, '010': 0.125, '011': 0.125, '100': 0.125, '101': 0.125, '110': 0.125, '111': 0.125}\n"
     ]
    }
   ],
   "source": [
    "counts = result.get_counts()\n",
    "print(counts)"
   ]
  }
 ],
 "metadata": {
  "kernelspec": {
   "display_name": "Python 3",
   "language": "python",
   "name": "python3"
  },
  "language_info": {
   "codemirror_mode": {
    "name": "ipython",
    "version": 3
   },
   "file_extension": ".py",
   "mimetype": "text/x-python",
   "name": "python",
   "nbconvert_exporter": "python",
   "pygments_lexer": "ipython3",
   "version": "3.11.4"
  }
 },
 "nbformat": 4,
 "nbformat_minor": 2
}
